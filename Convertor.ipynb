{
 "cells": [
  {
   "cell_type": "code",
   "execution_count": 1,
   "id": "188f13b9",
   "metadata": {},
   "outputs": [],
   "source": [
    "import pandas as pd\n",
    "import json\n",
    "from collections import Counter"
   ]
  },
  {
   "cell_type": "code",
   "execution_count": 4,
   "id": "bcbb2c9c",
   "metadata": {},
   "outputs": [],
   "source": [
    "def convert_json_to_agreement_df(input_file='Dataset_Clean.json', output_file='agreement_data.csv'):\n",
    "    \"\"\"\n",
    "    Convert Dataset_Clean.json to agreement_df format for IAA analysis\n",
    "    \"\"\"\n",
    "    print(\"Loading Dataset_Clean.json...\")\n",
    "    \n",
    "    # Load the cleaned dataset\n",
    "    df = pd.read_json(input_file)\n",
    "    print(f\"Loaded {len(df)} documents\")\n",
    "    \n",
    "    # Create agreement_df format\n",
    "    agreement_data = []\n",
    "    \n",
    "    # Process each document\n",
    "    for _, row in df.iterrows():\n",
    "        doc_id = row['id']\n",
    "        text = row['text']\n",
    "        \n",
    "        # Process each annotator column (A_1 to A_7)\n",
    "        for i in range(1, 8):\n",
    "            annotator = f'A_{i}'\n",
    "            \n",
    "            # Fix: Check if annotator exists and has valid data\n",
    "            if annotator in df.columns and isinstance(row[annotator], list):\n",
    "                labels = row[annotator]\n",
    "                \n",
    "                # Extract hierarchical labels\n",
    "                if len(labels) >= 2:\n",
    "                    l1_label = labels[0]\n",
    "                    l2_label = labels[1]\n",
    "                    full_label = f\"{l1_label}_{l2_label}\"\n",
    "                    \n",
    "                    agreement_data.append({\n",
    "                        'id': doc_id,\n",
    "                        'annotator': annotator,\n",
    "                        'text': text,\n",
    "                        'L1_label': l1_label,\n",
    "                        'L2_label': l2_label,\n",
    "                        'full_label': full_label\n",
    "                    })\n",
    "    \n",
    "    # Create agreement DataFrame\n",
    "    agreement_df = pd.DataFrame(agreement_data)\n",
    "    \n",
    "    print(f\"Created agreement_df with {len(agreement_df)} annotations\")\n",
    "    print(f\"Documents: {agreement_df['id'].nunique()}\")\n",
    "    print(f\"Annotators: {agreement_df['annotator'].nunique()}\")\n",
    "    print(f\"Unique labels: {agreement_df['full_label'].nunique()}\")\n",
    "    \n",
    "    # Save to CSV\n",
    "    agreement_df.to_csv(output_file, index=False)\n",
    "    print(f\"Saved to {output_file}\")\n",
    "    \n",
    "    return agreement_df"
   ]
  },
  {
   "cell_type": "code",
   "execution_count": 5,
   "id": "a0d07309",
   "metadata": {},
   "outputs": [
    {
     "name": "stdout",
     "output_type": "stream",
     "text": [
      "Loading Dataset_Clean.json...\n",
      "Loaded 1935 documents\n",
      "Created agreement_df with 13545 annotations\n",
      "Documents: 1935\n",
      "Annotators: 7\n",
      "Unique labels: 9\n",
      "Saved to agreement_data.csv\n",
      "\n",
      "Sample data:\n",
      "   id annotator                                               text  \\\n",
      "0   1       A_1  Hello, I need to reset my password. I have for...   \n",
      "1   1       A_2  Hello, I need to reset my password. I have for...   \n",
      "2   1       A_3  Hello, I need to reset my password. I have for...   \n",
      "3   1       A_4  Hello, I need to reset my password. I have for...   \n",
      "4   1       A_5  Hello, I need to reset my password. I have for...   \n",
      "\n",
      "             L1_label        L2_label                         full_label  \n",
      "0  Account Management  Password Reset  Account Management_Password Reset  \n",
      "1  Account Management  Password Reset  Account Management_Password Reset  \n",
      "2  Account Management  Password Reset  Account Management_Password Reset  \n",
      "3  Account Management  Password Reset  Account Management_Password Reset  \n",
      "4  Account Management  Password Reset  Account Management_Password Reset  \n",
      "\n",
      "Label distribution:\n",
      "full_label\n",
      "Billing_Refund Request               2115\n",
      "Technical Issue_Login Issue          2031\n",
      "Technical Issue_Feature Bug          1842\n",
      "Account Management_Close Account     1582\n",
      "Technical Issue_Performance Issue    1435\n",
      "Name: count, dtype: int64\n"
     ]
    }
   ],
   "source": [
    "if __name__ == \"__main__\":\n",
    "    # Convert the data\n",
    "    agreement_df = convert_json_to_agreement_df()\n",
    "    \n",
    "    # Display sample\n",
    "    print(\"\\nSample data:\")\n",
    "    print(agreement_df.head())\n",
    "    \n",
    "    print(\"\\nLabel distribution:\")\n",
    "    print(agreement_df['full_label'].value_counts().head())"
   ]
  },
  {
   "cell_type": "code",
   "execution_count": null,
   "id": "ab46b2f6",
   "metadata": {},
   "outputs": [],
   "source": []
  }
 ],
 "metadata": {
  "kernelspec": {
   "display_name": "prutech_c",
   "language": "python",
   "name": "python3"
  },
  "language_info": {
   "codemirror_mode": {
    "name": "ipython",
    "version": 3
   },
   "file_extension": ".py",
   "mimetype": "text/x-python",
   "name": "python",
   "nbconvert_exporter": "python",
   "pygments_lexer": "ipython3",
   "version": "3.11.13"
  }
 },
 "nbformat": 4,
 "nbformat_minor": 5
}
